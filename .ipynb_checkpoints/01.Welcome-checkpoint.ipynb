{
 "cells": [
  {
   "cell_type": "markdown",
   "metadata": {},
   "source": [
    "<b><font color='red'><h2>Welcome to The Essential Linear Algebra For Data Science...</h2></font></b>"
   ]
  },
  {
   "cell_type": "markdown",
   "metadata": {},
   "source": [
    "<h2>Linear Algebra is the bed-rock of Artificial Intelligence.</h2>\n",
    "\n",
    "<p>\n",
    "Everyday as Data Professionals, we make use of linear algebra objects...<br>Data observations are represented as points and can be clustered as point-clouds using any clustering algorithm.\n",
    "</p>\n",
    "\n",
    "<p>\n",
    "Weights, independent and dependent variables are often represented as vectors and matrices. Matrices with 3 dimensions are represented as planes, higher dimensions as hyper-planes and their grand daddy are tensors, used for computational graphs and deep-learning. Tensors are the bed-rock of the most popular deep-learning frameworks like TensorFlow and Pytorch. Infact TensorFlow and the Apache Spark SystemML are some sort of low-level linear algebra execution environment.\n",
    "</p>\n",
    "\n",
    "<p>\n",
    "Think of SystemML as an optimizer for linear algebra that’s capable of creating optimal execution plans \n",
    "for jobs running on data parallel frameworks like Apache Spark. And think of TensorFlow as one of the most widely used deep learning frameworks, which at its core, is a linear algebra library supporting automatic differentiation. \n",
    "And although TensorFlow’s Python-driven syntax is relatively complex, the Keras library provides an abstraction layer on top of TensorFlow.\n",
    "</p>\n",
    "\n",
    "<p>\n",
    "Another example of the importance of linear-algebra is data normalization, especially in machine learning. The popular L1-norm is nothing more than computing the <em><b>manhattan-distance</b></em> between two data points. While L2-norm is nothing more than computing the <em><b>Euclidean-Distance</b></em> between two data points and then normalising data points based on these computed distances. We shall see how to code these in Chapter One.\n",
    "</p>\n",
    "\n",
    "###Add some quotes about linear algebra>"
   ]
  },
  {
   "cell_type": "code",
   "execution_count": null,
   "metadata": {},
   "outputs": [],
   "source": []
  }
 ],
 "metadata": {
  "kernelspec": {
   "display_name": "Python 3",
   "language": "python",
   "name": "python3"
  },
  "language_info": {
   "codemirror_mode": {
    "name": "ipython",
    "version": 3
   },
   "file_extension": ".py",
   "mimetype": "text/x-python",
   "name": "python",
   "nbconvert_exporter": "python",
   "pygments_lexer": "ipython3",
   "version": "3.8.5"
  }
 },
 "nbformat": 4,
 "nbformat_minor": 4
}
