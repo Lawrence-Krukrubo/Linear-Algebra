{
 "cells": [
  {
   "cell_type": "markdown",
   "metadata": {},
   "source": [
    "<b><font color='red'><h1 align='center'>Welcome to The Essential Linear Algebra For Data Science</h></font></b>"
   ]
  },
  {
   "cell_type": "markdown",
   "metadata": {},
   "source": [
    "<img src='./images/linear_algebra.png' height=800 width=600>\n",
    "\n",
    "<h6 align='center'>(<em>image from wikipedia</em>)</h6>"
   ]
  },
  {
   "cell_type": "markdown",
   "metadata": {},
   "source": [
    "<h2 align='center'>Linear Algebra is the Bed-Rock of Artificial Intelligence.</h2>"
   ]
  },
  {
   "cell_type": "markdown",
   "metadata": {},
   "source": [
    "<p>\n",
    "Everyday, as Data Professionals, we make use of linear algebra properties...<br>Data observations are represented as points and can be clustered as point-clouds using any clustering algorithm.\n",
    "</p>\n",
    "\n",
    "<p>\n",
    "Weights, independent and dependent variables are often represented as vectors and matrices. Matrices with 3 dimensions are represented as planes, higher dimensions as hyper-planes and their grand daddy are tensors, used for computational graphs and deep-learning. Tensors are the first-class-citizens of the most popular deep-learning frameworks like TensorFlow and Pytorch. Infact TensorFlow and the Apache Spark SystemML are some sort of low-level linear algebra execution environment.\n",
    "</p>"
   ]
  },
  {
   "cell_type": "markdown",
   "metadata": {},
   "source": [
    "<p>\n",
    "Think of SystemML as an optimizer for linear algebra that’s capable of creating optimal execution plans \n",
    "for jobs running on data parallel frameworks like Apache Spark. And think of TensorFlow as one of the most widely used deep learning frameworks, which at its core, is a linear algebra library supporting automatic differentiation. \n",
    "And although TensorFlow’s Python-driven syntax is relatively complex, the Keras library provides an abstraction layer on top of TensorFlow.\n",
    "</p>\n",
    "\n",
    "<p>\n",
    "Another example of the importance of linear-algebra is data normalization, especially in machine learning. The popular L1-norm is nothing more than computing the <em><b>manhattan-distance</b></em> between two data points. While L2-norm is nothing more than computing the <em><b>Euclidean-Distance</b></em> between two data points and then normalising data points based on these computed distances. We shall see how to code these in Chapter One.\n",
    "</p>\n",
    "\n",
    "<p>\n",
    "Linear algebra is so important to Artificial Intelligence, that Google built an entire computing stack called Tensor Processing Units (TPUs) primarily to speed up vector processing activities and matrix-multiplication for complex deep-learning models.\n",
    "</p>\n",
    "\n",
    "![tpu_core](images/tpu_core.jpg)"
   ]
  },
  {
   "cell_type": "markdown",
   "metadata": {},
   "source": [
    "<p>\n",
    "A TPU v2 core is made up of a pair of MXU and VPU. The Matrix Multiply Unit (MXU) runs matrix multiplications while the Vector Processing Unit (VPU) performs all other tasks such as activations, softmax, etc. The VPU handles float32 and int32 computations. The MXU on the other hand operates in a mixed precision 16-32 bit floating point format.<br>TPUs excel many times faster than GPU clusters, when it comes to any task where large scale matrix multiplications dominate, such as neural networks.<br>Beneath the hood of a TPU core is an XLA (accelerated Linear Algebra compiler), which takes the computational graphs produced by tensorflow and converts them into high-performing TPU machine codes.\n",
    "</p>\n",
    "\n",
    "<h2 align='center'>A Hand-in-Hand Approach</h2> \n",
    "<img src='./images/handshake-3382503_1920.jpg' height=800 width=600>\n",
    "\n",
    "<h6 align='center'>(<em>image from pixabay</em>)</h6>\n",
    "<br>\n",
    "<p>\n",
    "    Without getting drowned in heavy notations, this course would hold your hands and walk you through the most essential linear algebra topics and applications that you need to know to excel in Data Science. We shall use the friendly python language and accompanying libraries and a package called `<b>linear_alg</b>` which I built entirely myself to simplify the learning and application process of linear algebra concepts.\n",
    "    </p>"
   ]
  },
  {
   "cell_type": "code",
   "execution_count": null,
   "metadata": {},
   "outputs": [],
   "source": []
  }
 ],
 "metadata": {
  "kernelspec": {
   "display_name": "Python 3",
   "language": "python",
   "name": "python3"
  },
  "language_info": {
   "codemirror_mode": {
    "name": "ipython",
    "version": 3
   },
   "file_extension": ".py",
   "mimetype": "text/x-python",
   "name": "python",
   "nbconvert_exporter": "python",
   "pygments_lexer": "ipython3",
   "version": "3.8.5"
  }
 },
 "nbformat": 4,
 "nbformat_minor": 4
}
