{
 "cells": [
  {
   "cell_type": "markdown",
   "metadata": {},
   "source": [
    "<b><font color='red'><h2>Welcome to The Essential Linear Algebra For Data Science...</h2></font></b>"
   ]
  },
  {
   "cell_type": "markdown",
   "metadata": {},
   "source": [
    "<h4>Linear Algebra is the bed-rock of Artificial Intelligence...</h4>\n",
    "<p>Everyday as Data Professionals, we make use of linear algebra objects...<br>Data observations are represented as points and can be clustered as point-clouds using any clustering algorithm.</p>\n",
    "<p>Weights, Independent and Dependent variables are often represented as vectors and matrices. Matrices with 3 dimensions are represented as planes, higher dimensions as hyper-planes and their grand daddy are tensors, used for computational graphs and deep-learning. Tensors are the bed-rock of the most popular deep-learning frameworks like TensorFlow and Pytorch.</p> \n",
    "<p>Another exanple is the use of linear-algebra for normalising data as we prepare to build machine learning models. The popular L1-norm is nothing more than computing the <em><b>manhattan-distance</b></em> between two data points. While L2-norm is nothing more than computing the <em><b>Euclidean-Distance</b></em> between two data points. We shall see how to code these in Chapter One.</p>\n",
    "\n",
    "###Add some quotes about linear algebra>"
   ]
  },
  {
   "cell_type": "code",
   "execution_count": null,
   "metadata": {},
   "outputs": [],
   "source": []
  }
 ],
 "metadata": {
  "kernelspec": {
   "display_name": "Python 3",
   "language": "python",
   "name": "python3"
  },
  "language_info": {
   "codemirror_mode": {
    "name": "ipython",
    "version": 3
   },
   "file_extension": ".py",
   "mimetype": "text/x-python",
   "name": "python",
   "nbconvert_exporter": "python",
   "pygments_lexer": "ipython3",
   "version": "3.7.5"
  }
 },
 "nbformat": 4,
 "nbformat_minor": 4
}
