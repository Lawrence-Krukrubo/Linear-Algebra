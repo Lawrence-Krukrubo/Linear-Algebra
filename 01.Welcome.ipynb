{
 "cells": [
  {
   "cell_type": "markdown",
   "metadata": {},
   "source": [
    "<h2>Welcome to The Essential Linear Algebra For Data Science...</h2>"
   ]
  },
  {
   "cell_type": "markdown",
   "metadata": {},
   "source": [
    "<font color='black'>Hello Everyone,<br>\n",
    "My name is Lawrence Alaso Krukrubo, I am a Top-Writer in Artificial Intelligence in The Medium, and an avid writer in TowardsAI and DataSeries publications. <br>I have spent virtually everyday of the past few years solving problems with Data Science or learning new skills and putting these to projects.</font>"
   ]
  },
  {
   "cell_type": "code",
   "execution_count": null,
   "metadata": {},
   "outputs": [],
   "source": []
  }
 ],
 "metadata": {
  "kernelspec": {
   "display_name": "Python 3",
   "language": "python",
   "name": "python3"
  },
  "language_info": {
   "codemirror_mode": {
    "name": "ipython",
    "version": 3
   },
   "file_extension": ".py",
   "mimetype": "text/x-python",
   "name": "python",
   "nbconvert_exporter": "python",
   "pygments_lexer": "ipython3",
   "version": "3.7.5"
  }
 },
 "nbformat": 4,
 "nbformat_minor": 4
}
