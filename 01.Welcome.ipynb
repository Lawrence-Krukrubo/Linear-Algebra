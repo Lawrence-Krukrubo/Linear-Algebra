{
 "cells": [
  {
   "cell_type": "markdown",
   "metadata": {},
   "source": [
    "<b><font color='red'><h2>Welcome to The Essential Linear Algebra For Data Science...</h2></font></b>"
   ]
  },
  {
   "cell_type": "markdown",
   "metadata": {},
   "source": [
    "**Hello Everyone,<br>\n",
    "My name is Lawrence Alaso Krukrubo, I am a Top-Writer in Artificial Intelligence in The Medium, and an avid writer in TowardsAI and DataSeries publications. <br>I have spent virtually everyday of the past few years solving problems with Data Science or learning new skills and putting these to projects.**"
   ]
  },
  {
   "cell_type": "code",
   "execution_count": null,
   "metadata": {},
   "outputs": [],
   "source": []
  }
 ],
 "metadata": {
  "kernelspec": {
   "display_name": "Python 3",
   "language": "python",
   "name": "python3"
  },
  "language_info": {
   "codemirror_mode": {
    "name": "ipython",
    "version": 3
   },
   "file_extension": ".py",
   "mimetype": "text/x-python",
   "name": "python",
   "nbconvert_exporter": "python",
   "pygments_lexer": "ipython3",
   "version": "3.7.5"
  }
 },
 "nbformat": 4,
 "nbformat_minor": 4
}
